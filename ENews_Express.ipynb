{
 "cells": [
  {
   "cell_type": "markdown",
   "id": "6yDxo9u0d9Na",
   "metadata": {
    "id": "6yDxo9u0d9Na"
   },
   "source": [
    "# Project Business Statistics: E-news Express\n",
    "\n",
    "**Marks: 60**"
   ]
  },
  {
   "cell_type": "markdown",
   "id": "SrLd-ICEmPSD",
   "metadata": {
    "id": "SrLd-ICEmPSD"
   },
   "source": [
    "## Define Problem Statement and Objectives"
   ]
  },
  {
   "cell_type": "markdown",
   "id": "11c9884e",
   "metadata": {
    "id": "9Vt1PLLqmXNn"
   },
   "source": [
    "The design team of the company has researched and created a new landing page that has a new outline & more relevant content shown compared to the old page. In order to test the effectiveness of the new landing page in gathering new subscribers, the Data Science team conducted an experiment by randomly selecting 100 users and dividing them equally into two groups. The existing landing page was served to the first group (control group) and the new landing page to the second group (treatment group). Data regarding the interaction of users in both groups with the two versions of the landing page was collected. Being a data scientist in E-news Express, you have been asked to explore the data and perform a statistical analysis (at a significance level of 5%) to determine the effectiveness of the new landing page in gathering new subscribers for the news portal by answering the following questions:\n",
    "\n",
    "1. Do the users spend more time on the new landing page than on the existing landing page?\n",
    "2. Is the conversion rate (the proportion of users who visit the landing page and get converted) for the new page greater than the conversion rate for the old page?\n",
    "3. Does the converted status depend on the preferred language?\n",
    "4. Is the time spent on the new page the same for the different language users?\n",
    "\n",
    "Approach:\n",
    "\n",
    "1. Two Sample ttest will be appropriate for comparing new and old landing pages.\n",
    "2. Two proportion Z test will be appropriate to check the mean conversion values for both the landing pages.\n",
    "3. Chi Square test of independency will be appropriate to check the dependency.\n",
    "4. ANOVA will help us comparing all three samples together."
   ]
  },
  {
   "cell_type": "markdown",
   "id": "a6a3d218",
   "metadata": {
    "id": "a6a3d218"
   },
   "source": [
    "## Import all the necessary libraries"
   ]
  },
  {
   "cell_type": "code",
   "execution_count": 1,
   "id": "658c5dec",
   "metadata": {
    "id": "658c5dec"
   },
   "outputs": [],
   "source": [
    "import pandas as pd\n",
    "import numpy as np\n",
    "\n",
    "import matplotlib.pyplot as plt\n",
    "import seaborn as sns\n",
    "\n",
    "import scipy.stats as stats"
   ]
  },
  {
   "cell_type": "markdown",
   "id": "6970dd99",
   "metadata": {
    "id": "6970dd99"
   },
   "source": [
    "## Reading the Data into a DataFrame"
   ]
  },
  {
   "cell_type": "code",
   "execution_count": 2,
   "id": "d3b95640",
   "metadata": {
    "id": "d3b95640"
   },
   "outputs": [],
   "source": [
    "data = pd.read_csv(\"D:\\\\Abhishek Data\\\\ASUS Abhi\\\\Abhi\\\\Learning\\\\Great Learning\\\\Project 02 BS\\\\abtest.csv\")"
   ]
  },
  {
   "cell_type": "code",
   "execution_count": 3,
   "id": "2e084c83",
   "metadata": {},
   "outputs": [],
   "source": [
    "df = data.copy()"
   ]
  },
  {
   "cell_type": "markdown",
   "id": "9d75cfa2",
   "metadata": {
    "id": "9d75cfa2"
   },
   "source": [
    "## Explore the dataset and extract insights using Exploratory Data Analysis"
   ]
  },
  {
   "cell_type": "markdown",
   "id": "27201534",
   "metadata": {
    "id": "27201534"
   },
   "source": [
    "- Data Overview\n",
    "  - Viewing the first and last few rows of the dataset\n",
    "  - Checking the shape of the dataset\n",
    "  - Getting the statistical summary for the variables\n",
    "- Check for missing values\n",
    "- Check for duplicates"
   ]
  },
  {
   "cell_type": "code",
   "execution_count": 4,
   "id": "e1ad11d4",
   "metadata": {
    "id": "e1ad11d4"
   },
   "outputs": [
    {
     "data": {
      "text/html": [
       "<div>\n",
       "<style scoped>\n",
       "    .dataframe tbody tr th:only-of-type {\n",
       "        vertical-align: middle;\n",
       "    }\n",
       "\n",
       "    .dataframe tbody tr th {\n",
       "        vertical-align: top;\n",
       "    }\n",
       "\n",
       "    .dataframe thead th {\n",
       "        text-align: right;\n",
       "    }\n",
       "</style>\n",
       "<table border=\"1\" class=\"dataframe\">\n",
       "  <thead>\n",
       "    <tr style=\"text-align: right;\">\n",
       "      <th></th>\n",
       "      <th>user_id</th>\n",
       "      <th>group</th>\n",
       "      <th>landing_page</th>\n",
       "      <th>time_spent_on_the_page</th>\n",
       "      <th>converted</th>\n",
       "      <th>language_preferred</th>\n",
       "    </tr>\n",
       "  </thead>\n",
       "  <tbody>\n",
       "    <tr>\n",
       "      <th>0</th>\n",
       "      <td>546592</td>\n",
       "      <td>control</td>\n",
       "      <td>old</td>\n",
       "      <td>3.48</td>\n",
       "      <td>no</td>\n",
       "      <td>Spanish</td>\n",
       "    </tr>\n",
       "    <tr>\n",
       "      <th>1</th>\n",
       "      <td>546468</td>\n",
       "      <td>treatment</td>\n",
       "      <td>new</td>\n",
       "      <td>7.13</td>\n",
       "      <td>yes</td>\n",
       "      <td>English</td>\n",
       "    </tr>\n",
       "    <tr>\n",
       "      <th>2</th>\n",
       "      <td>546462</td>\n",
       "      <td>treatment</td>\n",
       "      <td>new</td>\n",
       "      <td>4.40</td>\n",
       "      <td>no</td>\n",
       "      <td>Spanish</td>\n",
       "    </tr>\n",
       "    <tr>\n",
       "      <th>3</th>\n",
       "      <td>546567</td>\n",
       "      <td>control</td>\n",
       "      <td>old</td>\n",
       "      <td>3.02</td>\n",
       "      <td>no</td>\n",
       "      <td>French</td>\n",
       "    </tr>\n",
       "    <tr>\n",
       "      <th>4</th>\n",
       "      <td>546459</td>\n",
       "      <td>treatment</td>\n",
       "      <td>new</td>\n",
       "      <td>4.75</td>\n",
       "      <td>yes</td>\n",
       "      <td>Spanish</td>\n",
       "    </tr>\n",
       "  </tbody>\n",
       "</table>\n",
       "</div>"
      ],
      "text/plain": [
       "   user_id      group landing_page  time_spent_on_the_page converted  \\\n",
       "0   546592    control          old                    3.48        no   \n",
       "1   546468  treatment          new                    7.13       yes   \n",
       "2   546462  treatment          new                    4.40        no   \n",
       "3   546567    control          old                    3.02        no   \n",
       "4   546459  treatment          new                    4.75       yes   \n",
       "\n",
       "  language_preferred  \n",
       "0            Spanish  \n",
       "1            English  \n",
       "2            Spanish  \n",
       "3             French  \n",
       "4            Spanish  "
      ]
     },
     "execution_count": 4,
     "metadata": {},
     "output_type": "execute_result"
    }
   ],
   "source": [
    "df.head()"
   ]
  },
  {
   "cell_type": "code",
   "execution_count": 5,
   "id": "af6c777f",
   "metadata": {},
   "outputs": [
    {
     "data": {
      "text/html": [
       "<div>\n",
       "<style scoped>\n",
       "    .dataframe tbody tr th:only-of-type {\n",
       "        vertical-align: middle;\n",
       "    }\n",
       "\n",
       "    .dataframe tbody tr th {\n",
       "        vertical-align: top;\n",
       "    }\n",
       "\n",
       "    .dataframe thead th {\n",
       "        text-align: right;\n",
       "    }\n",
       "</style>\n",
       "<table border=\"1\" class=\"dataframe\">\n",
       "  <thead>\n",
       "    <tr style=\"text-align: right;\">\n",
       "      <th></th>\n",
       "      <th>user_id</th>\n",
       "      <th>group</th>\n",
       "      <th>landing_page</th>\n",
       "      <th>time_spent_on_the_page</th>\n",
       "      <th>converted</th>\n",
       "      <th>language_preferred</th>\n",
       "    </tr>\n",
       "  </thead>\n",
       "  <tbody>\n",
       "    <tr>\n",
       "      <th>95</th>\n",
       "      <td>546446</td>\n",
       "      <td>treatment</td>\n",
       "      <td>new</td>\n",
       "      <td>5.15</td>\n",
       "      <td>no</td>\n",
       "      <td>Spanish</td>\n",
       "    </tr>\n",
       "    <tr>\n",
       "      <th>96</th>\n",
       "      <td>546544</td>\n",
       "      <td>control</td>\n",
       "      <td>old</td>\n",
       "      <td>6.52</td>\n",
       "      <td>yes</td>\n",
       "      <td>English</td>\n",
       "    </tr>\n",
       "    <tr>\n",
       "      <th>97</th>\n",
       "      <td>546472</td>\n",
       "      <td>treatment</td>\n",
       "      <td>new</td>\n",
       "      <td>7.07</td>\n",
       "      <td>yes</td>\n",
       "      <td>Spanish</td>\n",
       "    </tr>\n",
       "    <tr>\n",
       "      <th>98</th>\n",
       "      <td>546481</td>\n",
       "      <td>treatment</td>\n",
       "      <td>new</td>\n",
       "      <td>6.20</td>\n",
       "      <td>yes</td>\n",
       "      <td>Spanish</td>\n",
       "    </tr>\n",
       "    <tr>\n",
       "      <th>99</th>\n",
       "      <td>546483</td>\n",
       "      <td>treatment</td>\n",
       "      <td>new</td>\n",
       "      <td>5.86</td>\n",
       "      <td>yes</td>\n",
       "      <td>English</td>\n",
       "    </tr>\n",
       "  </tbody>\n",
       "</table>\n",
       "</div>"
      ],
      "text/plain": [
       "    user_id      group landing_page  time_spent_on_the_page converted  \\\n",
       "95   546446  treatment          new                    5.15        no   \n",
       "96   546544    control          old                    6.52       yes   \n",
       "97   546472  treatment          new                    7.07       yes   \n",
       "98   546481  treatment          new                    6.20       yes   \n",
       "99   546483  treatment          new                    5.86       yes   \n",
       "\n",
       "   language_preferred  \n",
       "95            Spanish  \n",
       "96            English  \n",
       "97            Spanish  \n",
       "98            Spanish  \n",
       "99            English  "
      ]
     },
     "execution_count": 5,
     "metadata": {},
     "output_type": "execute_result"
    }
   ],
   "source": [
    "df.tail()"
   ]
  },
  {
   "cell_type": "code",
   "execution_count": 6,
   "id": "66637731",
   "metadata": {},
   "outputs": [
    {
     "data": {
      "text/plain": [
       "(100, 6)"
      ]
     },
     "execution_count": 6,
     "metadata": {},
     "output_type": "execute_result"
    }
   ],
   "source": [
    "df.shape"
   ]
  },
  {
   "cell_type": "code",
   "execution_count": 7,
   "id": "d17bee50",
   "metadata": {},
   "outputs": [
    {
     "name": "stdout",
     "output_type": "stream",
     "text": [
      "<class 'pandas.core.frame.DataFrame'>\n",
      "RangeIndex: 100 entries, 0 to 99\n",
      "Data columns (total 6 columns):\n",
      " #   Column                  Non-Null Count  Dtype  \n",
      "---  ------                  --------------  -----  \n",
      " 0   user_id                 100 non-null    int64  \n",
      " 1   group                   100 non-null    object \n",
      " 2   landing_page            100 non-null    object \n",
      " 3   time_spent_on_the_page  100 non-null    float64\n",
      " 4   converted               100 non-null    object \n",
      " 5   language_preferred      100 non-null    object \n",
      "dtypes: float64(1), int64(1), object(4)\n",
      "memory usage: 4.8+ KB\n"
     ]
    }
   ],
   "source": [
    "df.info()"
   ]
  },
  {
   "cell_type": "code",
   "execution_count": 9,
   "id": "327ad949",
   "metadata": {},
   "outputs": [
    {
     "data": {
      "text/html": [
       "<div>\n",
       "<style scoped>\n",
       "    .dataframe tbody tr th:only-of-type {\n",
       "        vertical-align: middle;\n",
       "    }\n",
       "\n",
       "    .dataframe tbody tr th {\n",
       "        vertical-align: top;\n",
       "    }\n",
       "\n",
       "    .dataframe thead th {\n",
       "        text-align: right;\n",
       "    }\n",
       "</style>\n",
       "<table border=\"1\" class=\"dataframe\">\n",
       "  <thead>\n",
       "    <tr style=\"text-align: right;\">\n",
       "      <th></th>\n",
       "      <th>count</th>\n",
       "      <th>unique</th>\n",
       "      <th>top</th>\n",
       "      <th>freq</th>\n",
       "      <th>mean</th>\n",
       "      <th>std</th>\n",
       "      <th>min</th>\n",
       "      <th>25%</th>\n",
       "      <th>50%</th>\n",
       "      <th>75%</th>\n",
       "      <th>max</th>\n",
       "    </tr>\n",
       "  </thead>\n",
       "  <tbody>\n",
       "    <tr>\n",
       "      <th>user_id</th>\n",
       "      <td>100.0</td>\n",
       "      <td>NaN</td>\n",
       "      <td>NaN</td>\n",
       "      <td>NaN</td>\n",
       "      <td>546517.0</td>\n",
       "      <td>52.295779</td>\n",
       "      <td>546443.0</td>\n",
       "      <td>546467.75</td>\n",
       "      <td>546492.5</td>\n",
       "      <td>546567.25</td>\n",
       "      <td>546592.0</td>\n",
       "    </tr>\n",
       "    <tr>\n",
       "      <th>group</th>\n",
       "      <td>100</td>\n",
       "      <td>2</td>\n",
       "      <td>control</td>\n",
       "      <td>50</td>\n",
       "      <td>NaN</td>\n",
       "      <td>NaN</td>\n",
       "      <td>NaN</td>\n",
       "      <td>NaN</td>\n",
       "      <td>NaN</td>\n",
       "      <td>NaN</td>\n",
       "      <td>NaN</td>\n",
       "    </tr>\n",
       "    <tr>\n",
       "      <th>landing_page</th>\n",
       "      <td>100</td>\n",
       "      <td>2</td>\n",
       "      <td>old</td>\n",
       "      <td>50</td>\n",
       "      <td>NaN</td>\n",
       "      <td>NaN</td>\n",
       "      <td>NaN</td>\n",
       "      <td>NaN</td>\n",
       "      <td>NaN</td>\n",
       "      <td>NaN</td>\n",
       "      <td>NaN</td>\n",
       "    </tr>\n",
       "    <tr>\n",
       "      <th>time_spent_on_the_page</th>\n",
       "      <td>100.0</td>\n",
       "      <td>NaN</td>\n",
       "      <td>NaN</td>\n",
       "      <td>NaN</td>\n",
       "      <td>5.3778</td>\n",
       "      <td>2.378166</td>\n",
       "      <td>0.19</td>\n",
       "      <td>3.88</td>\n",
       "      <td>5.415</td>\n",
       "      <td>7.0225</td>\n",
       "      <td>10.71</td>\n",
       "    </tr>\n",
       "    <tr>\n",
       "      <th>converted</th>\n",
       "      <td>100</td>\n",
       "      <td>2</td>\n",
       "      <td>yes</td>\n",
       "      <td>54</td>\n",
       "      <td>NaN</td>\n",
       "      <td>NaN</td>\n",
       "      <td>NaN</td>\n",
       "      <td>NaN</td>\n",
       "      <td>NaN</td>\n",
       "      <td>NaN</td>\n",
       "      <td>NaN</td>\n",
       "    </tr>\n",
       "    <tr>\n",
       "      <th>language_preferred</th>\n",
       "      <td>100</td>\n",
       "      <td>3</td>\n",
       "      <td>Spanish</td>\n",
       "      <td>34</td>\n",
       "      <td>NaN</td>\n",
       "      <td>NaN</td>\n",
       "      <td>NaN</td>\n",
       "      <td>NaN</td>\n",
       "      <td>NaN</td>\n",
       "      <td>NaN</td>\n",
       "      <td>NaN</td>\n",
       "    </tr>\n",
       "  </tbody>\n",
       "</table>\n",
       "</div>"
      ],
      "text/plain": [
       "                        count unique      top freq      mean        std  \\\n",
       "user_id                 100.0    NaN      NaN  NaN  546517.0  52.295779   \n",
       "group                     100      2  control   50       NaN        NaN   \n",
       "landing_page              100      2      old   50       NaN        NaN   \n",
       "time_spent_on_the_page  100.0    NaN      NaN  NaN    5.3778   2.378166   \n",
       "converted                 100      2      yes   54       NaN        NaN   \n",
       "language_preferred        100      3  Spanish   34       NaN        NaN   \n",
       "\n",
       "                             min        25%       50%        75%       max  \n",
       "user_id                 546443.0  546467.75  546492.5  546567.25  546592.0  \n",
       "group                        NaN        NaN       NaN        NaN       NaN  \n",
       "landing_page                 NaN        NaN       NaN        NaN       NaN  \n",
       "time_spent_on_the_page      0.19       3.88     5.415     7.0225     10.71  \n",
       "converted                    NaN        NaN       NaN        NaN       NaN  \n",
       "language_preferred           NaN        NaN       NaN        NaN       NaN  "
      ]
     },
     "execution_count": 9,
     "metadata": {},
     "output_type": "execute_result"
    }
   ],
   "source": [
    "df.describe(include = 'all').T"
   ]
  },
  {
   "cell_type": "code",
   "execution_count": 10,
   "id": "b58ce73e",
   "metadata": {},
   "outputs": [
    {
     "data": {
      "text/plain": [
       "user_id                   0\n",
       "group                     0\n",
       "landing_page              0\n",
       "time_spent_on_the_page    0\n",
       "converted                 0\n",
       "language_preferred        0\n",
       "dtype: int64"
      ]
     },
     "execution_count": 10,
     "metadata": {},
     "output_type": "execute_result"
    }
   ],
   "source": [
    "df.isnull().sum()"
   ]
  },
  {
   "cell_type": "code",
   "execution_count": 11,
   "id": "7d2efef0",
   "metadata": {},
   "outputs": [
    {
     "data": {
      "text/plain": [
       "0"
      ]
     },
     "execution_count": 11,
     "metadata": {},
     "output_type": "execute_result"
    }
   ],
   "source": [
    "df.duplicated().sum()"
   ]
  },
  {
   "cell_type": "code",
   "execution_count": 13,
   "id": "20065a5d",
   "metadata": {},
   "outputs": [
    {
     "name": "stderr",
     "output_type": "stream",
     "text": [
      "C:\\Users\\LENOVO\\AppData\\Local\\Temp\\ipykernel_15120\\3417837687.py:2: FutureWarning: The default value of numeric_only in DataFrameGroupBy.sum is deprecated. In a future version, numeric_only will default to False. Either specify numeric_only or select only columns which should be valid for the function.\n",
      "  df1.groupby(['landing_page', 'converted']).sum()\n"
     ]
    },
    {
     "data": {
      "text/html": [
       "<div>\n",
       "<style scoped>\n",
       "    .dataframe tbody tr th:only-of-type {\n",
       "        vertical-align: middle;\n",
       "    }\n",
       "\n",
       "    .dataframe tbody tr th {\n",
       "        vertical-align: top;\n",
       "    }\n",
       "\n",
       "    .dataframe thead th {\n",
       "        text-align: right;\n",
       "    }\n",
       "</style>\n",
       "<table border=\"1\" class=\"dataframe\">\n",
       "  <thead>\n",
       "    <tr style=\"text-align: right;\">\n",
       "      <th></th>\n",
       "      <th></th>\n",
       "      <th>time_spent_on_the_page</th>\n",
       "    </tr>\n",
       "    <tr>\n",
       "      <th>landing_page</th>\n",
       "      <th>converted</th>\n",
       "      <th></th>\n",
       "    </tr>\n",
       "  </thead>\n",
       "  <tbody>\n",
       "    <tr>\n",
       "      <th rowspan=\"2\" valign=\"top\">new</th>\n",
       "      <th>no</th>\n",
       "      <td>83.00</td>\n",
       "    </tr>\n",
       "    <tr>\n",
       "      <th>yes</th>\n",
       "      <td>228.16</td>\n",
       "    </tr>\n",
       "    <tr>\n",
       "      <th rowspan=\"2\" valign=\"top\">old</th>\n",
       "      <th>no</th>\n",
       "      <td>97.13</td>\n",
       "    </tr>\n",
       "    <tr>\n",
       "      <th>yes</th>\n",
       "      <td>129.49</td>\n",
       "    </tr>\n",
       "  </tbody>\n",
       "</table>\n",
       "</div>"
      ],
      "text/plain": [
       "                        time_spent_on_the_page\n",
       "landing_page converted                        \n",
       "new          no                          83.00\n",
       "             yes                        228.16\n",
       "old          no                          97.13\n",
       "             yes                        129.49"
      ]
     },
     "execution_count": 13,
     "metadata": {},
     "output_type": "execute_result"
    }
   ],
   "source": [
    "df1= df[['landing_page','time_spent_on_the_page','converted','language_preferred']]\n",
    "df1.groupby(['landing_page', 'converted']).sum()"
   ]
  },
  {
   "cell_type": "code",
   "execution_count": 17,
   "id": "b8f44b2d",
   "metadata": {},
   "outputs": [
    {
     "name": "stderr",
     "output_type": "stream",
     "text": [
      "C:\\Users\\LENOVO\\AppData\\Local\\Temp\\ipykernel_15120\\160425793.py:1: FutureWarning: The default value of numeric_only in DataFrameGroupBy.sum is deprecated. In a future version, numeric_only will default to False. Either specify numeric_only or select only columns which should be valid for the function.\n",
      "  df1.groupby(['language_preferred']).sum()\n"
     ]
    },
    {
     "data": {
      "text/html": [
       "<div>\n",
       "<style scoped>\n",
       "    .dataframe tbody tr th:only-of-type {\n",
       "        vertical-align: middle;\n",
       "    }\n",
       "\n",
       "    .dataframe tbody tr th {\n",
       "        vertical-align: top;\n",
       "    }\n",
       "\n",
       "    .dataframe thead th {\n",
       "        text-align: right;\n",
       "    }\n",
       "</style>\n",
       "<table border=\"1\" class=\"dataframe\">\n",
       "  <thead>\n",
       "    <tr style=\"text-align: right;\">\n",
       "      <th></th>\n",
       "      <th>time_spent_on_the_page</th>\n",
       "    </tr>\n",
       "    <tr>\n",
       "      <th>language_preferred</th>\n",
       "      <th></th>\n",
       "    </tr>\n",
       "  </thead>\n",
       "  <tbody>\n",
       "    <tr>\n",
       "      <th>English</th>\n",
       "      <td>177.89</td>\n",
       "    </tr>\n",
       "    <tr>\n",
       "      <th>French</th>\n",
       "      <td>178.61</td>\n",
       "    </tr>\n",
       "    <tr>\n",
       "      <th>Spanish</th>\n",
       "      <td>181.28</td>\n",
       "    </tr>\n",
       "  </tbody>\n",
       "</table>\n",
       "</div>"
      ],
      "text/plain": [
       "                    time_spent_on_the_page\n",
       "language_preferred                        \n",
       "English                             177.89\n",
       "French                              178.61\n",
       "Spanish                             181.28"
      ]
     },
     "execution_count": 17,
     "metadata": {},
     "output_type": "execute_result"
    }
   ],
   "source": [
    "df1.groupby(['language_preferred']).sum()"
   ]
  },
  {
   "cell_type": "code",
   "execution_count": 25,
   "id": "9784fe42",
   "metadata": {},
   "outputs": [
    {
     "name": "stderr",
     "output_type": "stream",
     "text": [
      "C:\\Users\\LENOVO\\AppData\\Local\\Temp\\ipykernel_4376\\822414237.py:1: FutureWarning: The default value of numeric_only in DataFrameGroupBy.sum is deprecated. In a future version, numeric_only will default to False. Either specify numeric_only or select only columns which should be valid for the function.\n",
      "  df1.groupby(['language_preferred','converted']).sum()\n"
     ]
    },
    {
     "data": {
      "text/html": [
       "<div>\n",
       "<style scoped>\n",
       "    .dataframe tbody tr th:only-of-type {\n",
       "        vertical-align: middle;\n",
       "    }\n",
       "\n",
       "    .dataframe tbody tr th {\n",
       "        vertical-align: top;\n",
       "    }\n",
       "\n",
       "    .dataframe thead th {\n",
       "        text-align: right;\n",
       "    }\n",
       "</style>\n",
       "<table border=\"1\" class=\"dataframe\">\n",
       "  <thead>\n",
       "    <tr style=\"text-align: right;\">\n",
       "      <th></th>\n",
       "      <th></th>\n",
       "      <th>time_spent_on_the_page</th>\n",
       "    </tr>\n",
       "    <tr>\n",
       "      <th>language_preferred</th>\n",
       "      <th>converted</th>\n",
       "      <th></th>\n",
       "    </tr>\n",
       "  </thead>\n",
       "  <tbody>\n",
       "    <tr>\n",
       "      <th rowspan=\"2\" valign=\"top\">English</th>\n",
       "      <th>no</th>\n",
       "      <td>41.92</td>\n",
       "    </tr>\n",
       "    <tr>\n",
       "      <th>yes</th>\n",
       "      <td>135.97</td>\n",
       "    </tr>\n",
       "    <tr>\n",
       "      <th rowspan=\"2\" valign=\"top\">French</th>\n",
       "      <th>no</th>\n",
       "      <td>73.37</td>\n",
       "    </tr>\n",
       "    <tr>\n",
       "      <th>yes</th>\n",
       "      <td>105.24</td>\n",
       "    </tr>\n",
       "    <tr>\n",
       "      <th rowspan=\"2\" valign=\"top\">Spanish</th>\n",
       "      <th>no</th>\n",
       "      <td>64.84</td>\n",
       "    </tr>\n",
       "    <tr>\n",
       "      <th>yes</th>\n",
       "      <td>116.44</td>\n",
       "    </tr>\n",
       "  </tbody>\n",
       "</table>\n",
       "</div>"
      ],
      "text/plain": [
       "                              time_spent_on_the_page\n",
       "language_preferred converted                        \n",
       "English            no                          41.92\n",
       "                   yes                        135.97\n",
       "French             no                          73.37\n",
       "                   yes                        105.24\n",
       "Spanish            no                          64.84\n",
       "                   yes                        116.44"
      ]
     },
     "execution_count": 25,
     "metadata": {},
     "output_type": "execute_result"
    }
   ],
   "source": [
    "df1.groupby(['language_preferred','converted']).sum()"
   ]
  },
  {
   "cell_type": "code",
   "execution_count": 26,
   "id": "adfb31ed",
   "metadata": {},
   "outputs": [
    {
     "data": {
      "text/plain": [
       "Spanish    34\n",
       "French     34\n",
       "English    32\n",
       "Name: language_preferred, dtype: int64"
      ]
     },
     "execution_count": 26,
     "metadata": {},
     "output_type": "execute_result"
    }
   ],
   "source": [
    "df1['language_preferred'].value_counts()"
   ]
  },
  {
   "cell_type": "code",
   "execution_count": 27,
   "id": "c9d46b18",
   "metadata": {},
   "outputs": [
    {
     "data": {
      "text/plain": [
       "language_preferred  converted\n",
       "English             yes          21\n",
       "                    no           11\n",
       "French              no           19\n",
       "                    yes          15\n",
       "Spanish             yes          18\n",
       "                    no           16\n",
       "Name: converted, dtype: int64"
      ]
     },
     "execution_count": 27,
     "metadata": {},
     "output_type": "execute_result"
    }
   ],
   "source": [
    "df1.groupby(['language_preferred'])['converted'].value_counts()"
   ]
  },
  {
   "cell_type": "markdown",
   "id": "5f383dd7",
   "metadata": {},
   "source": [
    "### Observations:\n",
    "\n",
    "1. Sample is the collection of 100 rows and 6 columns.\n",
    "2. Mean and median time_spent_on_the_page is 5.3778, 5.415 : We can say the graph is almost normally distributed\n",
    "3. As per the data mentioned above we can say the conversion rate depends on time spend on the page.\n",
    "4. Users spend more time on new landing page in comparision to old landing page.\n",
    "5. E-News has 3 preferred languages with spanish and French as top two. But the conversion rate is better for English.(Maximum time spent on the page)"
   ]
  },
  {
   "cell_type": "markdown",
   "id": "821f56e9",
   "metadata": {},
   "source": [
    "### Univariate Analysis"
   ]
  },
  {
   "cell_type": "code",
   "execution_count": 28,
   "id": "fc28b446",
   "metadata": {},
   "outputs": [
    {
     "data": {
      "text/plain": [
       "<Axes: xlabel='group', ylabel='Density'>"
      ]
     },
     "execution_count": 28,
     "metadata": {},
     "output_type": "execute_result"
    },
    {
     "data": {
      "image/png": "[encoded data removed]",
      "text/plain": [
       "<Figure size 640x480 with 1 Axes>"
      ]
     },
     "metadata": {},
     "output_type": "display_data"
    }
   ],
   "source": [
    "sns.histplot(df['group'], stat ='density')"
   ]
  },
  {
   "cell_type": "markdown",
   "id": "aed92aa2",
   "metadata": {},
   "source": [
    "### Observation: \n",
    "- 50% Values are under control group and 50% are under treatment group"
   ]
  },
  {
   "cell_type": "code",
   "execution_count": 29,
   "id": "b5a18c91",
   "metadata": {},
   "outputs": [
    {
     "data": {
      "text/plain": [
       "<Axes: xlabel='landing_page', ylabel='Count'>"
      ]
     },
     "execution_count": 29,
     "metadata": {},
     "output_type": "execute_result"
    },
    {
     "data": {
      "image/png": "[encoded data removed]",
      "text/plain": [
       "<Figure size 640x480 with 1 Axes>"
      ]
     },
     "metadata": {},
     "output_type": "display_data"
    }
   ],
   "source": [
    "sns.histplot(df['landing_page'])"
   ]
  },
  {
   "cell_type": "markdown",
   "id": "94d4abbe",
   "metadata": {},
   "source": [
    "### Observation: \n",
    "- 50% Values are landing on old page and other 50% are landing on new page."
   ]
  },
  {
   "cell_type": "code",
   "execution_count": 30,
   "id": "66ba02c8",
   "metadata": {},
   "outputs": [
    {
     "data": {
      "image/png": "[encoded data removed]",
      "text/plain": [
       "<Figure size 640x480 with 1 Axes>"
      ]
     },
     "metadata": {},
     "output_type": "display_data"
    }
   ],
   "source": [
    "sns.countplot(data = df, x= 'group', hue = 'landing_page');"
   ]
  },
  {
   "cell_type": "markdown",
   "id": "e28b2350",
   "metadata": {},
   "source": [
    "### Observations: \n",
    "The column control and treatment are related to each other as\n",
    "\n",
    "1. All values under control group are belong to old landing page and vice-versa.\n",
    "2. All values under treatment group are belong to new landing page and vice-versa."
   ]
  },
  {
   "cell_type": "code",
   "execution_count": 31,
   "id": "b74f1ed0",
   "metadata": {},
   "outputs": [
    {
     "data": {
      "text/html": [
       "<div>\n",
       "<style scoped>\n",
       "    .dataframe tbody tr th:only-of-type {\n",
       "        vertical-align: middle;\n",
       "    }\n",
       "\n",
       "    .dataframe tbody tr th {\n",
       "        vertical-align: top;\n",
       "    }\n",
       "\n",
       "    .dataframe thead th {\n",
       "        text-align: right;\n",
       "    }\n",
       "</style>\n",
       "<table border=\"1\" class=\"dataframe\">\n",
       "  <thead>\n",
       "    <tr style=\"text-align: right;\">\n",
       "      <th></th>\n",
       "      <th>user_id</th>\n",
       "      <th>group</th>\n",
       "      <th>landing_page</th>\n",
       "      <th>time_spent_on_the_page</th>\n",
       "      <th>converted</th>\n",
       "      <th>language_preferred</th>\n",
       "    </tr>\n",
       "  </thead>\n",
       "  <tbody>\n",
       "    <tr>\n",
       "      <th>0</th>\n",
       "      <td>546592</td>\n",
       "      <td>control</td>\n",
       "      <td>old</td>\n",
       "      <td>3.48</td>\n",
       "      <td>no</td>\n",
       "      <td>Spanish</td>\n",
       "    </tr>\n",
       "    <tr>\n",
       "      <th>1</th>\n",
       "      <td>546468</td>\n",
       "      <td>treatment</td>\n",
       "      <td>new</td>\n",
       "      <td>7.13</td>\n",
       "      <td>yes</td>\n",
       "      <td>English</td>\n",
       "    </tr>\n",
       "    <tr>\n",
       "      <th>2</th>\n",
       "      <td>546462</td>\n",
       "      <td>treatment</td>\n",
       "      <td>new</td>\n",
       "      <td>4.40</td>\n",
       "      <td>no</td>\n",
       "      <td>Spanish</td>\n",
       "    </tr>\n",
       "    <tr>\n",
       "      <th>3</th>\n",
       "      <td>546567</td>\n",
       "      <td>control</td>\n",
       "      <td>old</td>\n",
       "      <td>3.02</td>\n",
       "      <td>no</td>\n",
       "      <td>French</td>\n",
       "    </tr>\n",
       "    <tr>\n",
       "      <th>4</th>\n",
       "      <td>546459</td>\n",
       "      <td>treatment</td>\n",
       "      <td>new</td>\n",
       "      <td>4.75</td>\n",
       "      <td>yes</td>\n",
       "      <td>Spanish</td>\n",
       "    </tr>\n",
       "  </tbody>\n",
       "</table>\n",
       "</div>"
      ],
      "text/plain": [
       "   user_id      group landing_page  time_spent_on_the_page converted  \\\n",
       "0   546592    control          old                    3.48        no   \n",
       "1   546468  treatment          new                    7.13       yes   \n",
       "2   546462  treatment          new                    4.40        no   \n",
       "3   546567    control          old                    3.02        no   \n",
       "4   546459  treatment          new                    4.75       yes   \n",
       "\n",
       "  language_preferred  \n",
       "0            Spanish  \n",
       "1            English  \n",
       "2            Spanish  \n",
       "3             French  \n",
       "4            Spanish  "
      ]
     },
     "execution_count": 31,
     "metadata": {},
     "output_type": "execute_result"
    }
   ],
   "source": [
    "df.head()"
   ]
  },
  {
   "cell_type": "code",
   "execution_count": 32,
   "id": "0ad48ac4",
   "metadata": {},
   "outputs": [
    {
     "data": {
      "text/plain": [
       "(0.0, 10.0)"
      ]
     },
     "execution_count": 32,
     "metadata": {},
     "output_type": "execute_result"
    },
    {
     "data": {
      "image/png": "[encoded data removed]",
      "text/plain": [
       "<Figure size 2000x700 with 1 Axes>"
      ]
     },
     "metadata": {},
     "output_type": "display_data"
    }
   ],
   "source": [
    "plt.figure(figsize = (20,7))\n",
    "sns.histplot(df['time_spent_on_the_page'], bins = 50, kde = True, stat = 'count')\n",
    "plt.title('Time Spent')\n",
    "plt.xlabel('Time Spent on E news Express')\n",
    "plt.ylabel('Density of Users')\n",
    "plt.xlim(0,12)\n",
    "plt.ylim(0,10)"
   ]
  },
  {
   "cell_type": "code",
   "execution_count": 54,
   "id": "96433b5a",
   "metadata": {},
   "outputs": [
    {
     "data": {
      "image/png": "[encoded data removed]",
      "text/plain": [
       "<Figure size 640x480 with 1 Axes>"
      ]
     },
     "metadata": {},
     "output_type": "display_data"
    }
   ],
   "source": [
    "sns.boxplot(x = df['time_spent_on_the_page']);"
   ]
  },
  {
   "cell_type": "markdown",
   "id": "4662476f",
   "metadata": {},
   "source": [
    "### Observation: \n",
    "- There are no outliers in time spend on the page."
   ]
  },
  {
   "cell_type": "code",
   "execution_count": 34,
   "id": "a4ed14cd",
   "metadata": {},
   "outputs": [
    {
     "data": {
      "text/plain": [
       "(0.0, 60.0)"
      ]
     },
     "execution_count": 34,
     "metadata": {},
     "output_type": "execute_result"
    },
    {
     "data": {
      "image/png": "[encoded data removed]",
      "text/plain": [
       "<Figure size 640x480 with 1 Axes>"
      ]
     },
     "metadata": {},
     "output_type": "display_data"
    }
   ],
   "source": [
    "sns.histplot(df['converted'], stat = 'count')\n",
    "plt.title('Conversion Details')\n",
    "plt.xlabel('Converted or Not')\n",
    "plt.ylabel('Total Count')\n",
    "plt.ylim(0,60)"
   ]
  },
  {
   "cell_type": "code",
   "execution_count": 35,
   "id": "6c7c3dbc",
   "metadata": {},
   "outputs": [
    {
     "data": {
      "text/plain": [
       "(0.0, 40.0)"
      ]
     },
     "execution_count": 35,
     "metadata": {},
     "output_type": "execute_result"
    },
    {
     "data": {
      "image/png": "[encoded data removed]",
      "text/plain": [
       "<Figure size 640x480 with 1 Axes>"
      ]
     },
     "metadata": {},
     "output_type": "display_data"
    }
   ],
   "source": [
    "sns.countplot(data = df1, x = 'language_preferred')\n",
    "plt.title('Preferred Language Details')\n",
    "plt.xlabel('Languages')\n",
    "plt.ylabel('Total Count')\n",
    "plt.ylim(0,40)"
   ]
  },
  {
   "cell_type": "markdown",
   "id": "44762aaf",
   "metadata": {},
   "source": [
    "### Observations:\n",
    "\n",
    "1. There are no outliers in time_spend_on_the_page.\n",
    "2. Total user subscription count is greater than the contrary part"
   ]
  },
  {
   "cell_type": "code",
   "execution_count": 36,
   "id": "962ee39b",
   "metadata": {},
   "outputs": [
    {
     "data": {
      "text/plain": [
       "(0.0, 200.0)"
      ]
     },
     "execution_count": 36,
     "metadata": {},
     "output_type": "execute_result"
    },
    {
     "data": {
      "image/png": "[encoded data removed]",
      "text/plain": [
       "<Figure size 2000x700 with 1 Axes>"
      ]
     },
     "metadata": {},
     "output_type": "display_data"
    }
   ],
   "source": [
    "plt.figure(figsize = (20,7))\n",
    "df.groupby(['language_preferred'])['time_spent_on_the_page'].sum().plot(kind = 'bar', color = 'g')\n",
    "plt.title('Preferred Language Vs Time Spent on Page')\n",
    "plt.ylabel('Time in minutes')\n",
    "plt.xlabel('Language')\n",
    "plt.ylim(0,200)"
   ]
  },
  {
   "cell_type": "markdown",
   "id": "b53a6043",
   "metadata": {},
   "source": [
    "### Observation:\n",
    "\n",
    "- Users of different language are spending almost same time."
   ]
  },
  {
   "cell_type": "markdown",
   "id": "aeb318df",
   "metadata": {},
   "source": [
    "### Bivariate Analysis"
   ]
  },
  {
   "cell_type": "code",
   "execution_count": 37,
   "id": "d4e9ec87",
   "metadata": {},
   "outputs": [
    {
     "data": {
      "image/png": "[encoded data removed]",
      "text/plain": [
       "<Figure size 640x480 with 1 Axes>"
      ]
     },
     "metadata": {},
     "output_type": "display_data"
    }
   ],
   "source": [
    "sns.countplot(data = df, x= 'group', hue = 'landing_page');"
   ]
  },
  {
   "cell_type": "code",
   "execution_count": 57,
   "id": "b335fc7e",
   "metadata": {},
   "outputs": [
    {
     "name": "stderr",
     "output_type": "stream",
     "text": [
      "C:\\Users\\LENOVO\\AppData\\Local\\Temp\\ipykernel_4376\\2849255213.py:1: FutureWarning: The default value of numeric_only in DataFrameGroupBy.sum is deprecated. In a future version, numeric_only will default to False. Either specify numeric_only or select only columns which should be valid for the function.\n",
      "  df1.groupby(['landing_page']).sum()\n"
     ]
    },
    {
     "data": {
      "text/html": [
       "<div>\n",
       "<style scoped>\n",
       "    .dataframe tbody tr th:only-of-type {\n",
       "        vertical-align: middle;\n",
       "    }\n",
       "\n",
       "    .dataframe tbody tr th {\n",
       "        vertical-align: top;\n",
       "    }\n",
       "\n",
       "    .dataframe thead th {\n",
       "        text-align: right;\n",
       "    }\n",
       "</style>\n",
       "<table border=\"1\" class=\"dataframe\">\n",
       "  <thead>\n",
       "    <tr style=\"text-align: right;\">\n",
       "      <th></th>\n",
       "      <th>time_spent_on_the_page</th>\n",
       "    </tr>\n",
       "    <tr>\n",
       "      <th>landing_page</th>\n",
       "      <th></th>\n",
       "    </tr>\n",
       "  </thead>\n",
       "  <tbody>\n",
       "    <tr>\n",
       "      <th>new</th>\n",
       "      <td>311.16</td>\n",
       "    </tr>\n",
       "    <tr>\n",
       "      <th>old</th>\n",
       "      <td>226.62</td>\n",
       "    </tr>\n",
       "  </tbody>\n",
       "</table>\n",
       "</div>"
      ],
      "text/plain": [
       "              time_spent_on_the_page\n",
       "landing_page                        \n",
       "new                           311.16\n",
       "old                           226.62"
      ]
     },
     "execution_count": 57,
     "metadata": {},
     "output_type": "execute_result"
    }
   ],
   "source": [
    "df1.groupby(['landing_page']).sum()"
   ]
  },
  {
   "cell_type": "code",
   "execution_count": 39,
   "id": "ee07d6b2",
   "metadata": {},
   "outputs": [
    {
     "data": {
      "text/plain": [
       "(0.0, 40.0)"
      ]
     },
     "execution_count": 39,
     "metadata": {},
     "output_type": "execute_result"
    },
    {
     "data": {
      "image/png": "[encoded data removed]",
      "text/plain": [
       "<Figure size 640x480 with 1 Axes>"
      ]
     },
     "metadata": {},
     "output_type": "display_data"
    }
   ],
   "source": [
    "sns.countplot(data = df, hue= 'converted', x = 'landing_page')\n",
    "plt.title('Landing Page Vs Conversion')\n",
    "plt.xlabel('Landing Page')\n",
    "plt.ylabel('Total Count')\n",
    "plt.ylim(0,40)"
   ]
  },
  {
   "cell_type": "markdown",
   "id": "948d31fd",
   "metadata": {},
   "source": [
    "### Observation:\n",
    "\n",
    "- As we can see that new landing_page has better conversion rate."
   ]
  },
  {
   "cell_type": "code",
   "execution_count": 40,
   "id": "92476ce1",
   "metadata": {},
   "outputs": [
    {
     "data": {
      "text/plain": [
       "(0.0, 30.0)"
      ]
     },
     "execution_count": 40,
     "metadata": {},
     "output_type": "execute_result"
    },
    {
     "data": {
      "image/png": "[encoded data removed]",
      "text/plain": [
       "<Figure size 640x480 with 1 Axes>"
      ]
     },
     "metadata": {},
     "output_type": "display_data"
    }
   ],
   "source": [
    "sns.countplot(data = df, x= 'language_preferred', hue = 'converted')\n",
    "plt.title('Preferred Language Vs Conversion')\n",
    "plt.xlabel('Preferred Language')\n",
    "plt.ylabel('Total Count')\n",
    "plt.ylim(0,30)"
   ]
  },
  {
   "cell_type": "code",
   "execution_count": 41,
   "id": "12826487",
   "metadata": {},
   "outputs": [
    {
     "data": {
      "image/png": "[encoded data removed]",
      "text/plain": [
       "<Figure size 640x480 with 1 Axes>"
      ]
     },
     "metadata": {},
     "output_type": "display_data"
    }
   ],
   "source": [
    "sns.countplot(data = df, x= 'language_preferred', hue = 'landing_page');"
   ]
  },
  {
   "cell_type": "markdown",
   "id": "19679810",
   "metadata": {},
   "source": [
    "### Observation:\n",
    "\n",
    "1. Data is randomly and independently selected while mainting the equality between new and old landing page value counts.\n",
    "2. User interaction time is greater for new landing page.\n",
    "3. Users who prefer interact in english language has shown better conversion rate."
   ]
  },
  {
   "cell_type": "code",
   "execution_count": 42,
   "id": "2cbf30fd",
   "metadata": {},
   "outputs": [
    {
     "data": {
      "text/html": [
       "<div>\n",
       "<style scoped>\n",
       "    .dataframe tbody tr th:only-of-type {\n",
       "        vertical-align: middle;\n",
       "    }\n",
       "\n",
       "    .dataframe tbody tr th {\n",
       "        vertical-align: top;\n",
       "    }\n",
       "\n",
       "    .dataframe thead th {\n",
       "        text-align: right;\n",
       "    }\n",
       "</style>\n",
       "<table border=\"1\" class=\"dataframe\">\n",
       "  <thead>\n",
       "    <tr style=\"text-align: right;\">\n",
       "      <th></th>\n",
       "      <th></th>\n",
       "      <th></th>\n",
       "      <th>time_spent_on_the_page</th>\n",
       "    </tr>\n",
       "    <tr>\n",
       "      <th>language_preferred</th>\n",
       "      <th>converted</th>\n",
       "      <th>landing_page</th>\n",
       "      <th></th>\n",
       "    </tr>\n",
       "  </thead>\n",
       "  <tbody>\n",
       "    <tr>\n",
       "      <th rowspan=\"4\" valign=\"top\">English</th>\n",
       "      <th rowspan=\"2\" valign=\"top\">no</th>\n",
       "      <th>new</th>\n",
       "      <td>33.04</td>\n",
       "    </tr>\n",
       "    <tr>\n",
       "      <th>old</th>\n",
       "      <td>8.88</td>\n",
       "    </tr>\n",
       "    <tr>\n",
       "      <th rowspan=\"2\" valign=\"top\">yes</th>\n",
       "      <th>new</th>\n",
       "      <td>73.58</td>\n",
       "    </tr>\n",
       "    <tr>\n",
       "      <th>old</th>\n",
       "      <td>62.39</td>\n",
       "    </tr>\n",
       "    <tr>\n",
       "      <th rowspan=\"4\" valign=\"top\">French</th>\n",
       "      <th rowspan=\"2\" valign=\"top\">no</th>\n",
       "      <th>new</th>\n",
       "      <td>22.00</td>\n",
       "    </tr>\n",
       "    <tr>\n",
       "      <th>old</th>\n",
       "      <td>51.37</td>\n",
       "    </tr>\n",
       "    <tr>\n",
       "      <th rowspan=\"2\" valign=\"top\">yes</th>\n",
       "      <th>new</th>\n",
       "      <td>83.34</td>\n",
       "    </tr>\n",
       "    <tr>\n",
       "      <th>old</th>\n",
       "      <td>21.90</td>\n",
       "    </tr>\n",
       "    <tr>\n",
       "      <th rowspan=\"4\" valign=\"top\">Spanish</th>\n",
       "      <th rowspan=\"2\" valign=\"top\">no</th>\n",
       "      <th>new</th>\n",
       "      <td>27.96</td>\n",
       "    </tr>\n",
       "    <tr>\n",
       "      <th>old</th>\n",
       "      <td>36.88</td>\n",
       "    </tr>\n",
       "    <tr>\n",
       "      <th rowspan=\"2\" valign=\"top\">yes</th>\n",
       "      <th>new</th>\n",
       "      <td>71.24</td>\n",
       "    </tr>\n",
       "    <tr>\n",
       "      <th>old</th>\n",
       "      <td>45.20</td>\n",
       "    </tr>\n",
       "  </tbody>\n",
       "</table>\n",
       "</div>"
      ],
      "text/plain": [
       "                                           time_spent_on_the_page\n",
       "language_preferred converted landing_page                        \n",
       "English            no        new                            33.04\n",
       "                             old                             8.88\n",
       "                   yes       new                            73.58\n",
       "                             old                            62.39\n",
       "French             no        new                            22.00\n",
       "                             old                            51.37\n",
       "                   yes       new                            83.34\n",
       "                             old                            21.90\n",
       "Spanish            no        new                            27.96\n",
       "                             old                            36.88\n",
       "                   yes       new                            71.24\n",
       "                             old                            45.20"
      ]
     },
     "execution_count": 42,
     "metadata": {},
     "output_type": "execute_result"
    }
   ],
   "source": [
    "df1.groupby(['language_preferred','converted','landing_page']).sum()"
   ]
  },
  {
   "cell_type": "code",
   "execution_count": 43,
   "id": "d0e4ed66",
   "metadata": {},
   "outputs": [
    {
     "data": {
      "text/plain": [
       "<Axes: xlabel='language_preferred,converted,landing_page'>"
      ]
     },
     "execution_count": 43,
     "metadata": {},
     "output_type": "execute_result"
    },
    {
     "data": {
      "image/png": "[encoded data removed]",
      "text/plain": [
       "<Figure size 640x480 with 1 Axes>"
      ]
     },
     "metadata": {},
     "output_type": "display_data"
    }
   ],
   "source": [
    "df1.groupby(['language_preferred','converted','landing_page']).sum().plot(kind = 'bar')"
   ]
  },
  {
   "cell_type": "markdown",
   "id": "c3e384d5",
   "metadata": {},
   "source": [
    "### Observation:\n",
    "- The interaction time is sharply increased for subscribed French language user on new landing page."
   ]
  },
  {
   "cell_type": "markdown",
   "id": "27906576",
   "metadata": {
    "id": "27906576"
   },
   "source": [
    "## 1. Do the users spend more time on the new landing page than the existing landing page?"
   ]
  },
  {
   "cell_type": "code",
   "execution_count": 59,
   "id": "bb016d84",
   "metadata": {},
   "outputs": [
    {
     "data": {
      "text/html": [
       "<div>\n",
       "<style scoped>\n",
       "    .dataframe tbody tr th:only-of-type {\n",
       "        vertical-align: middle;\n",
       "    }\n",
       "\n",
       "    .dataframe tbody tr th {\n",
       "        vertical-align: top;\n",
       "    }\n",
       "\n",
       "    .dataframe thead th {\n",
       "        text-align: right;\n",
       "    }\n",
       "</style>\n",
       "<table border=\"1\" class=\"dataframe\">\n",
       "  <thead>\n",
       "    <tr style=\"text-align: right;\">\n",
       "      <th></th>\n",
       "      <th>user_id</th>\n",
       "      <th>group</th>\n",
       "      <th>landing_page</th>\n",
       "      <th>time_spent_on_the_page</th>\n",
       "      <th>converted</th>\n",
       "      <th>language_preferred</th>\n",
       "    </tr>\n",
       "  </thead>\n",
       "  <tbody>\n",
       "    <tr>\n",
       "      <th>0</th>\n",
       "      <td>546592</td>\n",
       "      <td>control</td>\n",
       "      <td>old</td>\n",
       "      <td>3.48</td>\n",
       "      <td>no</td>\n",
       "      <td>Spanish</td>\n",
       "    </tr>\n",
       "    <tr>\n",
       "      <th>1</th>\n",
       "      <td>546468</td>\n",
       "      <td>treatment</td>\n",
       "      <td>new</td>\n",
       "      <td>7.13</td>\n",
       "      <td>yes</td>\n",
       "      <td>English</td>\n",
       "    </tr>\n",
       "    <tr>\n",
       "      <th>2</th>\n",
       "      <td>546462</td>\n",
       "      <td>treatment</td>\n",
       "      <td>new</td>\n",
       "      <td>4.40</td>\n",
       "      <td>no</td>\n",
       "      <td>Spanish</td>\n",
       "    </tr>\n",
       "    <tr>\n",
       "      <th>3</th>\n",
       "      <td>546567</td>\n",
       "      <td>control</td>\n",
       "      <td>old</td>\n",
       "      <td>3.02</td>\n",
       "      <td>no</td>\n",
       "      <td>French</td>\n",
       "    </tr>\n",
       "    <tr>\n",
       "      <th>4</th>\n",
       "      <td>546459</td>\n",
       "      <td>treatment</td>\n",
       "      <td>new</td>\n",
       "      <td>4.75</td>\n",
       "      <td>yes</td>\n",
       "      <td>Spanish</td>\n",
       "    </tr>\n",
       "  </tbody>\n",
       "</table>\n",
       "</div>"
      ],
      "text/plain": [
       "   user_id      group landing_page  time_spent_on_the_page converted  \\\n",
       "0   546592    control          old                    3.48        no   \n",
       "1   546468  treatment          new                    7.13       yes   \n",
       "2   546462  treatment          new                    4.40        no   \n",
       "3   546567    control          old                    3.02        no   \n",
       "4   546459  treatment          new                    4.75       yes   \n",
       "\n",
       "  language_preferred  \n",
       "0            Spanish  \n",
       "1            English  \n",
       "2            Spanish  \n",
       "3             French  \n",
       "4            Spanish  "
      ]
     },
     "execution_count": 59,
     "metadata": {},
     "output_type": "execute_result"
    }
   ],
   "source": [
    "df.head()"
   ]
  },
  {
   "cell_type": "code",
   "execution_count": 60,
   "id": "6afc1202",
   "metadata": {},
   "outputs": [],
   "source": [
    "df2 = df.groupby(['landing_page'])['time_spent_on_the_page'].sum()"
   ]
  },
  {
   "cell_type": "code",
   "execution_count": 61,
   "id": "58ce58b8",
   "metadata": {},
   "outputs": [
    {
     "name": "stderr",
     "output_type": "stream",
     "text": [
      "C:\\Users\\LENOVO\\AppData\\Local\\Temp\\ipykernel_4376\\2793801979.py:1: FutureWarning: The default value of numeric_only in DataFrameGroupBy.sum is deprecated. In a future version, numeric_only will default to False. Either specify numeric_only or select only columns which should be valid for the function.\n",
      "  df1.groupby(['landing_page']).sum().plot(kind = 'bar', color = 'y');\n"
     ]
    },
    {
     "data": {
      "image/png": "[encoded data removed]",
      "text/plain": [
       "<Figure size 640x480 with 1 Axes>"
      ]
     },
     "metadata": {},
     "output_type": "display_data"
    }
   ],
   "source": [
    "df1.groupby(['landing_page']).sum().plot(kind = 'bar', color = 'y');"
   ]
  },
  {
   "cell_type": "markdown",
   "id": "21257894",
   "metadata": {},
   "source": [
    "### Observation:\n",
    "- We can easily visualize that the users spend greater time at new landing page."
   ]
  },
  {
   "cell_type": "markdown",
   "id": "2bb5eae2",
   "metadata": {},
   "source": [
    "### Step 1: Define the null and alternate hypotheses\n",
    "1. Null Hypothesis (H0) : mu_old >= mu_new\n",
    "2. Alternative Hypothesis (Ha): mu_old < mu_new\n",
    "\n",
    "Here, I hypothysied that the mean time spent on existing page is greater than new landing page."
   ]
  },
  {
   "cell_type": "markdown",
   "id": "e2b68d53",
   "metadata": {},
   "source": [
    "### Step 2: Select Appropriate test\n",
    "Population standard deviation is unknown and there are two samples from the same population. That's why the Two Sample ttest is the appropriate test.\n",
    "\n",
    "Assumptions:\n",
    "\n",
    "1. Randomly selected\n",
    "2. Normally Distributed\n",
    "3. Independent Variables"
   ]
  },
  {
   "cell_type": "markdown",
   "id": "53e409b7",
   "metadata": {},
   "source": [
    "### Step 3: Decide the significance \n",
    "LevelLevel of Significane = 0.05 (5%)"
   ]
  },
  {
   "cell_type": "markdown",
   "id": "cabcaa43",
   "metadata": {},
   "source": [
    "### Step 4: Collect and prepare data"
   ]
  },
  {
   "cell_type": "code",
   "execution_count": 46,
   "id": "5444e16a",
   "metadata": {},
   "outputs": [
    {
     "data": {
      "text/plain": [
       "(4.532400000000001, 6.2232)"
      ]
     },
     "execution_count": 46,
     "metadata": {},
     "output_type": "execute_result"
    }
   ],
   "source": [
    "sample_old = df.loc[df['landing_page'] == 'old','time_spent_on_the_page']\n",
    "sample_new = df.loc[df['landing_page'] == 'new','time_spent_on_the_page'] \n",
    "mu_old = sample_old.mean()\n",
    "mu_new = sample_new.mean()\n",
    "mu_old, mu_new"
   ]
  },
  {
   "cell_type": "code",
   "execution_count": 47,
   "id": "fb458888",
   "metadata": {},
   "outputs": [],
   "source": [
    "from scipy.stats import ttest_ind"
   ]
  },
  {
   "cell_type": "markdown",
   "id": "4266c50d",
   "metadata": {},
   "source": [
    "### Step 5: Calculate the p-value"
   ]
  },
  {
   "cell_type": "code",
   "execution_count": 48,
   "id": "135642d2",
   "metadata": {},
   "outputs": [
    {
     "data": {
      "text/plain": [
       "0.0001392381225166549"
      ]
     },
     "execution_count": 48,
     "metadata": {},
     "output_type": "execute_result"
    }
   ],
   "source": [
    "t_stat, p_value = ttest_ind(sample_old, sample_new, equal_var = False, alternative ='less')\n",
    "p_value"
   ]
  },
  {
   "cell_type": "code",
   "execution_count": null,
   "id": "3cc3345b",
   "metadata": {},
   "outputs": [],
   "source": [
    "### Step 6: Compare the p-value with α"
   ]
  },
  {
   "cell_type": "code",
   "execution_count": 49,
   "id": "b6bc1ed1",
   "metadata": {},
   "outputs": [
    {
     "name": "stdout",
     "output_type": "stream",
     "text": [
      "We can reject the null hypothesis as p_value = 0.0001392381225166549 which is lesser than 0.05\n"
     ]
    }
   ],
   "source": [
    "if p_value < 0.05:\n",
    "    print(f\"We can reject the null hypothesis as p_value = {p_value} which is lesser than 0.05\")\n",
    "else:\n",
    "    print(f\"We fail to reject the null hypothesis as p_value = {p_value} which is greater than 0.05\")"
   ]
  },
  {
   "cell_type": "markdown",
   "id": "57ea61cc",
   "metadata": {},
   "source": [
    "### Step 7: Draw inference\n",
    "Observation:\n",
    "\n",
    "- We can reject the null hypothesis and conjectured that users spend greater time on new landing plateform in comparision to old landing plateform.\n",
    "A similar approach can be followed to answer the other questions."
   ]
  },
  {
   "cell_type": "markdown",
   "id": "8d3ebeae",
   "metadata": {},
   "source": [
    "### 2. Is the conversion rate (the proportion of users who visit the landing page and get converted) for the new page greater than the conversion rate for the old page?\n",
    "Perform Visual Analysis"
   ]
  },
  {
   "cell_type": "code",
   "execution_count": 50,
   "id": "2b44ecfb",
   "metadata": {},
   "outputs": [
    {
     "data": {
      "text/plain": [
       "(0.0, 40.0)"
      ]
     },
     "execution_count": 50,
     "metadata": {},
     "output_type": "execute_result"
    },
    {
     "data": {
      "image/png": "[encoded data removed]",
      "text/plain": [
       "<Figure size 640x480 with 1 Axes>"
      ]
     },
     "metadata": {},
     "output_type": "display_data"
    }
   ],
   "source": [
    "sns.countplot(data = df, hue= 'converted', x = 'landing_page')\n",
    "plt.title('Landing Page Vs Conversion')\n",
    "plt.xlabel('Landing Page')\n",
    "plt.ylabel('Total Count')\n",
    "plt.ylim(0,40)"
   ]
  },
  {
   "cell_type": "code",
   "execution_count": 51,
   "id": "7edc0b0b",
   "metadata": {},
   "outputs": [
    {
     "name": "stdout",
     "output_type": "stream",
     "text": [
      "landing_page  converted\n",
      "new           yes          33\n",
      "              no           17\n",
      "old           no           29\n",
      "              yes          21\n",
      "Name: converted, dtype: int64\n",
      "\n",
      "The conversion rate for new page is  0.66\n",
      "The conversion rate for old page is  0.42\n"
     ]
    }
   ],
   "source": [
    "conversion_data = df.groupby(['landing_page'])['converted'].value_counts()\n",
    "new_page_conversion_rate = 33/50\n",
    "old_page_conversion_rate = 21/50\n",
    "print(conversion_data);\n",
    "\n",
    "print(\"\\nThe conversion rate for new page is \",new_page_conversion_rate )\n",
    "print(\"The conversion rate for old page is \",old_page_conversion_rate )"
   ]
  },
  {
   "cell_type": "markdown",
   "id": "b3361594",
   "metadata": {},
   "source": [
    "### Observations:\n",
    "\n",
    "- From the above bar graph, it is clear that conversion rate is better for new landing page incomparision to old landing page."
   ]
  },
  {
   "cell_type": "markdown",
   "id": "19c85421",
   "metadata": {},
   "source": [
    "### Step 1: Define the null and alternate hypotheses\n",
    "- Null Hypothesis: H0 mu_conversion_new > mu_conversion_old\n",
    "- Alternative Hypothesis : Ha mu_conversion_new < mu_conversion_old\n",
    "\n",
    "Here, I hypothysied that mean conversion rate at new landing page is greater than that of old landing page."
   ]
  },
  {
   "cell_type": "markdown",
   "id": "edc3ac46",
   "metadata": {},
   "source": [
    "### Step 2: Select Appropriate test\n",
    "As we are concern about the proportion. So, 2 sample z proportion test is appropriate using here.\n",
    "\n",
    "Assumptions:\n",
    "\n",
    "1. Normally Distributed\n",
    "2. Randomly Selected\n",
    "3. Independent Random variables"
   ]
  },
  {
   "cell_type": "markdown",
   "id": "52b335ab",
   "metadata": {},
   "source": [
    "### Step 3: Decide the significance level\n",
    "Level of significance = 0.05 (5%)"
   ]
  },
  {
   "cell_type": "markdown",
   "id": "b9f641ed",
   "metadata": {},
   "source": [
    "### Step 4: Collect and prepare data"
   ]
  },
  {
   "cell_type": "code",
   "execution_count": 65,
   "id": "cc1f6ed8",
   "metadata": {},
   "outputs": [],
   "source": [
    "old_sample_count = 50\n",
    "new_sample_count = 50"
   ]
  },
  {
   "cell_type": "code",
   "execution_count": 66,
   "id": "84503a2e",
   "metadata": {},
   "outputs": [
    {
     "data": {
      "text/plain": [
       "landing_page  converted  converted\n",
       "new           no         no           17\n",
       "              yes        yes          33\n",
       "old           no         no           29\n",
       "              yes        yes          21\n",
       "Name: converted, dtype: int64"
      ]
     },
     "execution_count": 66,
     "metadata": {},
     "output_type": "execute_result"
    }
   ],
   "source": [
    "df.groupby(['landing_page','converted'])['converted'].value_counts()"
   ]
  },
  {
   "cell_type": "code",
   "execution_count": 67,
   "id": "d70844d5",
   "metadata": {},
   "outputs": [],
   "source": [
    "conversion_old = 21\n",
    "conversion_new = 33"
   ]
  },
  {
   "cell_type": "code",
   "execution_count": 68,
   "id": "09a14923",
   "metadata": {},
   "outputs": [],
   "source": [
    "conversion = [conversion_old,conversion_new]\n",
    "sample_size = [old_sample_count, new_sample_count]"
   ]
  },
  {
   "cell_type": "markdown",
   "id": "0c540b5c",
   "metadata": {},
   "source": [
    "### Step 5: Calculate the p-value"
   ]
  },
  {
   "cell_type": "code",
   "execution_count": 69,
   "id": "35ff525a",
   "metadata": {},
   "outputs": [],
   "source": [
    "from statsmodels.stats.proportion import proportions_ztest"
   ]
  },
  {
   "cell_type": "code",
   "execution_count": 70,
   "id": "571dd5c0",
   "metadata": {},
   "outputs": [
    {
     "data": {
      "text/plain": [
       "0.9919736917959437"
      ]
     },
     "execution_count": 70,
     "metadata": {},
     "output_type": "execute_result"
    }
   ],
   "source": [
    "t_stat, p_value = proportions_ztest(conversion, sample_size, alternative = 'larger')\n",
    "p_value"
   ]
  },
  {
   "cell_type": "markdown",
   "id": "5e90ea6d",
   "metadata": {},
   "source": [
    "### Step 6: Compare the p-value with α"
   ]
  },
  {
   "cell_type": "code",
   "execution_count": 72,
   "id": "f85f0c31",
   "metadata": {},
   "outputs": [
    {
     "name": "stdout",
     "output_type": "stream",
     "text": [
      "We fail to reject the null hypothesis as p_value = 0.9919736917959437 which is greater than 0.05\n"
     ]
    }
   ],
   "source": [
    "if p_value < 0.05:\n",
    "    print(f\"We can reject the null hypothesis as p_value = {p_value} which is lesser than 0.05\")\n",
    "else:\n",
    "    print(f\"We fail to reject the null hypothesis as p_value = {p_value} which is greater than 0.05\")"
   ]
  },
  {
   "cell_type": "markdown",
   "id": "4ddac403",
   "metadata": {},
   "source": [
    "### Step 7: Draw inference\n",
    "Failed to reject the null hypothesis as p_value is larger than 0.05 So, I can conjecture that coversion rate at new landing page is greater than the old landing page."
   ]
  },
  {
   "cell_type": "markdown",
   "id": "e071e097",
   "metadata": {},
   "source": [
    "### 3. Is the conversion and preferred language are independent or related?\n",
    "Perform Visual Analysis"
   ]
  },
  {
   "cell_type": "code",
   "execution_count": 75,
   "id": "1b239ab6",
   "metadata": {},
   "outputs": [
    {
     "data": {
      "text/plain": [
       "(0.0, 30.0)"
      ]
     },
     "execution_count": 75,
     "metadata": {},
     "output_type": "execute_result"
    },
    {
     "data": {
      "image/png": "[encoded data removed]",
      "text/plain": [
       "<Figure size 640x480 with 1 Axes>"
      ]
     },
     "metadata": {},
     "output_type": "display_data"
    }
   ],
   "source": [
    "sns.countplot(data = df, x= 'language_preferred', hue = 'converted')\n",
    "plt.title('Preferred Language Vs Conversion')\n",
    "plt.xlabel('Preferred Language')\n",
    "plt.ylabel('Total Count')\n",
    "plt.ylim(0,30)"
   ]
  },
  {
   "cell_type": "markdown",
   "id": "57df5ceb",
   "metadata": {},
   "source": [
    "### Observation:\n",
    "- Visually we can say that conversion and preferred language are related"
   ]
  },
  {
   "cell_type": "markdown",
   "id": "a350ff0e",
   "metadata": {},
   "source": [
    "### Step 1: Define the null and alternate hypotheses\n",
    "- Null hypothesis: H0 : Conversion and preferred language are independent.\n",
    "- Alternative Hypothesis: Ha : Conversion and preferred language are not independent."
   ]
  },
  {
   "cell_type": "markdown",
   "id": "2f8a65c2",
   "metadata": {},
   "source": [
    "### Step 2: Select Appropriate test\n",
    "-Chi Square test of independence will be best fit for this situation. Because both are categorical variables."
   ]
  },
  {
   "cell_type": "markdown",
   "id": "0bace17a",
   "metadata": {},
   "source": [
    "### Step 3: Decide the significance level\n",
    "Level of significance = 0.05 (5%)"
   ]
  },
  {
   "cell_type": "markdown",
   "id": "8149c60a",
   "metadata": {},
   "source": [
    "### Step 4: Collect and prepare data"
   ]
  },
  {
   "cell_type": "code",
   "execution_count": 77,
   "id": "53f82081",
   "metadata": {},
   "outputs": [
    {
     "data": {
      "text/html": [
       "<div>\n",
       "<style scoped>\n",
       "    .dataframe tbody tr th:only-of-type {\n",
       "        vertical-align: middle;\n",
       "    }\n",
       "\n",
       "    .dataframe tbody tr th {\n",
       "        vertical-align: top;\n",
       "    }\n",
       "\n",
       "    .dataframe thead th {\n",
       "        text-align: right;\n",
       "    }\n",
       "</style>\n",
       "<table border=\"1\" class=\"dataframe\">\n",
       "  <thead>\n",
       "    <tr style=\"text-align: right;\">\n",
       "      <th>language_preferred</th>\n",
       "      <th>English</th>\n",
       "      <th>French</th>\n",
       "      <th>Spanish</th>\n",
       "      <th>All</th>\n",
       "    </tr>\n",
       "    <tr>\n",
       "      <th>converted</th>\n",
       "      <th></th>\n",
       "      <th></th>\n",
       "      <th></th>\n",
       "      <th></th>\n",
       "    </tr>\n",
       "  </thead>\n",
       "  <tbody>\n",
       "    <tr>\n",
       "      <th>no</th>\n",
       "      <td>11</td>\n",
       "      <td>19</td>\n",
       "      <td>16</td>\n",
       "      <td>46</td>\n",
       "    </tr>\n",
       "    <tr>\n",
       "      <th>yes</th>\n",
       "      <td>21</td>\n",
       "      <td>15</td>\n",
       "      <td>18</td>\n",
       "      <td>54</td>\n",
       "    </tr>\n",
       "    <tr>\n",
       "      <th>All</th>\n",
       "      <td>32</td>\n",
       "      <td>34</td>\n",
       "      <td>34</td>\n",
       "      <td>100</td>\n",
       "    </tr>\n",
       "  </tbody>\n",
       "</table>\n",
       "</div>"
      ],
      "text/plain": [
       "language_preferred  English  French  Spanish  All\n",
       "converted                                        \n",
       "no                       11      19       16   46\n",
       "yes                      21      15       18   54\n",
       "All                      32      34       34  100"
      ]
     },
     "execution_count": 77,
     "metadata": {},
     "output_type": "execute_result"
    }
   ],
   "source": [
    "contingency_table = pd.crosstab(df['converted'],df['language_preferred'], margins = True)\n",
    "contingency_table"
   ]
  },
  {
   "cell_type": "markdown",
   "id": "de66e28c",
   "metadata": {},
   "source": [
    "### Step 5: Calculate the p-value"
   ]
  },
  {
   "cell_type": "code",
   "execution_count": 78,
   "id": "e8163495",
   "metadata": {},
   "outputs": [],
   "source": [
    "from scipy.stats import chi2_contingency"
   ]
  },
  {
   "cell_type": "code",
   "execution_count": 79,
   "id": "003eef38",
   "metadata": {},
   "outputs": [
    {
     "data": {
      "text/plain": [
       "0.7970832186581233"
      ]
     },
     "execution_count": 79,
     "metadata": {},
     "output_type": "execute_result"
    }
   ],
   "source": [
    "chi, p_value, dof, expected = chi2_contingency(contingency_table)\n",
    "p_value"
   ]
  },
  {
   "cell_type": "markdown",
   "id": "057fac6f",
   "metadata": {},
   "source": [
    "### Step 6: Compare the p-value with α"
   ]
  },
  {
   "cell_type": "code",
   "execution_count": 81,
   "id": "c4eae215",
   "metadata": {},
   "outputs": [
    {
     "name": "stdout",
     "output_type": "stream",
     "text": [
      "We fail to reject the null hypothesis as p_value = 0.7970832186581233 which is greater than 0.05\n"
     ]
    }
   ],
   "source": [
    "if p_value < 0.05:\n",
    "    print(f\"We can reject the null hypothesis as p_value = {p_value} which is lesser than 0.05\")\n",
    "else:\n",
    "    print(f\"We fail to reject the null hypothesis as p_value = {p_value} which is greater than 0.05\")"
   ]
  },
  {
   "cell_type": "markdown",
   "id": "3290aab3",
   "metadata": {},
   "source": [
    "### Step 7: Draw inference\n",
    "- From the above results, I can say that conversion rate and preferred language are independent."
   ]
  },
  {
   "cell_type": "markdown",
   "id": "66ecb0d4",
   "metadata": {},
   "source": [
    "### 4. Is the time spent on the new page same for the different language users?\n",
    "Perform Visual Analysis"
   ]
  },
  {
   "cell_type": "code",
   "execution_count": 84,
   "id": "849d3638",
   "metadata": {},
   "outputs": [
    {
     "name": "stderr",
     "output_type": "stream",
     "text": [
      "C:\\Users\\LENOVO\\AppData\\Local\\Temp\\ipykernel_4376\\132451969.py:1: FutureWarning: The default value of numeric_only in DataFrameGroupBy.sum is deprecated. In a future version, numeric_only will default to False. Either specify numeric_only or select only columns which should be valid for the function.\n",
      "  df_total = df1.groupby(['language_preferred']).sum();\n"
     ]
    },
    {
     "data": {
      "text/html": [
       "<div>\n",
       "<style scoped>\n",
       "    .dataframe tbody tr th:only-of-type {\n",
       "        vertical-align: middle;\n",
       "    }\n",
       "\n",
       "    .dataframe tbody tr th {\n",
       "        vertical-align: top;\n",
       "    }\n",
       "\n",
       "    .dataframe thead th {\n",
       "        text-align: right;\n",
       "    }\n",
       "</style>\n",
       "<table border=\"1\" class=\"dataframe\">\n",
       "  <thead>\n",
       "    <tr style=\"text-align: right;\">\n",
       "      <th></th>\n",
       "      <th>time_spent_on_the_page</th>\n",
       "    </tr>\n",
       "    <tr>\n",
       "      <th>language_preferred</th>\n",
       "      <th></th>\n",
       "    </tr>\n",
       "  </thead>\n",
       "  <tbody>\n",
       "    <tr>\n",
       "      <th>English</th>\n",
       "      <td>177.89</td>\n",
       "    </tr>\n",
       "    <tr>\n",
       "      <th>French</th>\n",
       "      <td>178.61</td>\n",
       "    </tr>\n",
       "    <tr>\n",
       "      <th>Spanish</th>\n",
       "      <td>181.28</td>\n",
       "    </tr>\n",
       "  </tbody>\n",
       "</table>\n",
       "</div>"
      ],
      "text/plain": [
       "                    time_spent_on_the_page\n",
       "language_preferred                        \n",
       "English                             177.89\n",
       "French                              178.61\n",
       "Spanish                             181.28"
      ]
     },
     "execution_count": 84,
     "metadata": {},
     "output_type": "execute_result"
    }
   ],
   "source": [
    "df_total = df1.groupby(['language_preferred']).sum();\n",
    "df_total"
   ]
  },
  {
   "cell_type": "code",
   "execution_count": 85,
   "id": "2f020e2c",
   "metadata": {},
   "outputs": [
    {
     "data": {
      "text/plain": [
       "language_preferred\n",
       "English    106.62\n",
       "French     105.34\n",
       "Spanish     99.20\n",
       "Name: time_spent_on_the_page, dtype: float64"
      ]
     },
     "execution_count": 85,
     "metadata": {},
     "output_type": "execute_result"
    }
   ],
   "source": [
    "df_new = df.loc[df['landing_page'] == 'new'].groupby(['language_preferred'])['time_spent_on_the_page'].sum()\n",
    "df_new"
   ]
  },
  {
   "cell_type": "code",
   "execution_count": 87,
   "id": "99083f31",
   "metadata": {},
   "outputs": [
    {
     "data": {
      "text/plain": [
       "(0.0, 120.0)"
      ]
     },
     "execution_count": 87,
     "metadata": {},
     "output_type": "execute_result"
    },
    {
     "data": {
      "image/png": "[encoded data removed]",
      "text/plain": [
       "<Figure size 2000x700 with 1 Axes>"
      ]
     },
     "metadata": {},
     "output_type": "display_data"
    }
   ],
   "source": [
    "plt.figure(figsize = (20,7))\n",
    "df_new.plot(kind = 'bar', color = 'g')\n",
    "plt.title('Preferred Language Vs Time Spent on Page')\n",
    "plt.ylabel('Time in minutes')\n",
    "plt.xlabel('Language')\n",
    "plt.ylim(0,120)"
   ]
  },
  {
   "cell_type": "code",
   "execution_count": 88,
   "id": "580b7b48",
   "metadata": {},
   "outputs": [
    {
     "data": {
      "text/plain": [
       "language_preferred\n",
       "English    71.27\n",
       "French     73.27\n",
       "Spanish    82.08\n",
       "Name: time_spent_on_the_page, dtype: float64"
      ]
     },
     "execution_count": 88,
     "metadata": {},
     "output_type": "execute_result"
    }
   ],
   "source": [
    "df_old = df.loc[df['landing_page'] == 'old'].groupby(['language_preferred'])['time_spent_on_the_page'].sum()\n",
    "df_old"
   ]
  },
  {
   "cell_type": "code",
   "execution_count": 89,
   "id": "0bf4b92a",
   "metadata": {},
   "outputs": [
    {
     "data": {
      "text/plain": [
       "(0.0, 12.0)"
      ]
     },
     "execution_count": 89,
     "metadata": {},
     "output_type": "execute_result"
    },
    {
     "data": {
      "image/png": "[encoded data removed]",
      "text/plain": [
       "<Figure size 640x480 with 1 Axes>"
      ]
     },
     "metadata": {},
     "output_type": "display_data"
    }
   ],
   "source": [
    "sns.boxplot(data =df, y = 'time_spent_on_the_page' ,x = 'language_preferred')\n",
    "plt.title('Preferred Language Vs Time Spent on Page')\n",
    "plt.ylabel('Time in minutes')\n",
    "plt.xlabel('Language')\n",
    "plt.ylim(0,12)"
   ]
  },
  {
   "cell_type": "markdown",
   "id": "d27d6fd7",
   "metadata": {},
   "source": [
    "### Observation:\n",
    "\n",
    "- The interaction time is almost similar for all three languages for new landing page.\n",
    "- The interaction time is better in comparision to old landing page also.\n",
    "- The average interaction time is almost similar for all three languages."
   ]
  },
  {
   "cell_type": "markdown",
   "id": "1504818e",
   "metadata": {},
   "source": [
    "### Step 1: Define the null and alternate hypotheses\n",
    "1. Null Hypothesis : mu1 = mu2 =mu3\n",
    "2. Alternative Hypothesis : at least one is different\n",
    "3. mu1: Mean time spent for Spanish on new landing page\n",
    "4. mu2: Mean time spent for English on new landing page\n",
    "5. mu3: Mean time spent for French on new landing page"
   ]
  },
  {
   "cell_type": "markdown",
   "id": "31767f7b",
   "metadata": {},
   "source": [
    "### Step 2: Select Appropriate test\n",
    "ANOVA: Analysis of Variance\n",
    "\n",
    "This test allow us to compare and draw conjecture for multiple groups"
   ]
  },
  {
   "cell_type": "markdown",
   "id": "20924d57",
   "metadata": {},
   "source": [
    "### Step 3: Decide the significance level\n",
    "Significance Level = 0.05 (5%)"
   ]
  },
  {
   "cell_type": "markdown",
   "id": "ec860d88",
   "metadata": {},
   "source": [
    "### Step 4: Collect and prepare data"
   ]
  },
  {
   "cell_type": "markdown",
   "id": "d2ecebaa",
   "metadata": {},
   "source": [
    "### Assumptions:\n",
    "\n",
    "- Samples are consist of independent simple random variable.\n",
    "- The group population is normally distributed\n",
    "- The group variance have a common variance\n",
    "\n",
    "As per the information the data provided is randomny sampled. But we need to check for normal distribution and common variance."
   ]
  },
  {
   "cell_type": "code",
   "execution_count": 90,
   "id": "49b11379",
   "metadata": {},
   "outputs": [
    {
     "name": "stdout",
     "output_type": "stream",
     "text": [
      "We fail to reject the null hypothesis as p_value_wilk = 0.8040016293525696 which is greater than 0.05\n"
     ]
    }
   ],
   "source": [
    "# Shapiro Wilks's test for normality check:\n",
    "# H0: The sample group follows normal distribution\n",
    "# H1: The sample group not follows normal distribution\n",
    "# alpha = 0.05\n",
    "\n",
    "from scipy import stats\n",
    "w, p_value_wilk = stats.shapiro(df.loc[df['landing_page'] == 'new',['time_spent_on_the_page']])\n",
    "if p_value_wilk < 0.05:\n",
    "    print(f\"We can reject the null hypothesis as p_value_wilk= {p_value_wilk} which is lesser than 0.05\")\n",
    "else:\n",
    "    print(f\"We fail to reject the null hypothesis as p_value_wilk = {p_value_wilk} which is greater than 0.05\")"
   ]
  },
  {
   "cell_type": "markdown",
   "id": "c915a0e6",
   "metadata": {},
   "source": [
    "From above result we can infer that the sample group is normally distributed."
   ]
  },
  {
   "cell_type": "code",
   "execution_count": 91,
   "id": "a6dbc42e",
   "metadata": {},
   "outputs": [
    {
     "name": "stdout",
     "output_type": "stream",
     "text": [
      "We fail to reject the null hypothesis as p_value_levene = 0.46711357711340173 which is greater than 0.05\n"
     ]
    }
   ],
   "source": [
    "# Levene's test for equality of variance check:\n",
    "# H0: The samples have equal variance.\n",
    "# H1: The samples have unequal variance.\n",
    "# alpha = 0.05\n",
    "\n",
    "from scipy.stats import levene\n",
    "stat, p_value_levene = levene(df.loc[(df['landing_page'] == 'new') & (df['language_preferred'] == 'Spanish')]['time_spent_on_the_page'],\n",
    "                             df.loc[(df['landing_page'] == 'new') & (df['language_preferred'] == 'English')]['time_spent_on_the_page'],\n",
    "                             df.loc[(df['landing_page'] == 'new') & (df['language_preferred'] == 'French')]['time_spent_on_the_page'] )\n",
    "if p_value_levene < 0.05:\n",
    "    print(f\"We can reject the null hypothesis as p_value_levene = {p_value_levene} which is lesser than 0.05\")\n",
    "else:\n",
    "    print(f\"We fail to reject the null hypothesis as p_value_levene = {p_value_levene} which is greater than 0.05\")"
   ]
  },
  {
   "cell_type": "markdown",
   "id": "c2577e9b",
   "metadata": {},
   "source": [
    "From the above result we can infer that the variance is equal and ANOVA is applicable here."
   ]
  },
  {
   "cell_type": "markdown",
   "id": "77fe8a26",
   "metadata": {},
   "source": [
    "### Step 5: Calculate the p-value"
   ]
  },
  {
   "cell_type": "code",
   "execution_count": 92,
   "id": "ee7f79eb",
   "metadata": {},
   "outputs": [
    {
     "data": {
      "text/plain": [
       "0.43204138694325955"
      ]
     },
     "execution_count": 92,
     "metadata": {},
     "output_type": "execute_result"
    }
   ],
   "source": [
    "from scipy.stats import f_oneway\n",
    "test_stat, p_value_anova = f_oneway(df.loc[(df['landing_page'] == 'new') & (df['language_preferred'] == 'Spanish')]['time_spent_on_the_page'],\n",
    "                             df.loc[(df['landing_page'] == 'new') & (df['language_preferred'] == 'English')]['time_spent_on_the_page'],\n",
    "                             df.loc[(df['landing_page'] == 'new') & (df['language_preferred'] == 'French')]['time_spent_on_the_page'] )\n",
    "p_value_anova"
   ]
  },
  {
   "cell_type": "markdown",
   "id": "b16a64fb",
   "metadata": {},
   "source": [
    "### Step 6: Compare the p-value with α"
   ]
  },
  {
   "cell_type": "code",
   "execution_count": 93,
   "id": "d54f257d",
   "metadata": {},
   "outputs": [
    {
     "name": "stdout",
     "output_type": "stream",
     "text": [
      "We fail to reject the null hypothesis as p_value_anova = 0.43204138694325955 which is greater than 0.05\n"
     ]
    }
   ],
   "source": [
    "if p_value_anova < 0.05:\n",
    "    print(f\"We can reject the null hypothesis as p_value_anova = {p_value_anova} which is lesser than 0.05\")\n",
    "else:\n",
    "    print(f\"We fail to reject the null hypothesis as p_value_anova = {p_value_anova} which is greater than 0.05\")"
   ]
  },
  {
   "cell_type": "markdown",
   "id": "ea9f8cf4",
   "metadata": {},
   "source": [
    "### Step 7: Draw inference\n",
    "As we have failed to reject the null hypothesis. So, we can infer that all mean interaction time for all three laguages on new landing page is same."
   ]
  },
  {
   "cell_type": "markdown",
   "id": "3d5da957",
   "metadata": {},
   "source": [
    "### Conclusion and Business Recommendations\n",
    "Conclusion\n",
    "1. The new landing page has better interation capabilities in comparision to old landing page.\n",
    "2. Although interaction time is almost same for all three languages but conversion rate is better for English.\n",
    "3. Convertion rate directly depends on the user interation time.\n",
    "4. Total user subscription count is greater than the contrary part.\n",
    "5. Conversion and preferred languages are related to each other.\n",
    "6. At new landing page the mean interaction time is equal for all three languages."
   ]
  },
  {
   "cell_type": "markdown",
   "id": "7a3d704c",
   "metadata": {},
   "source": [
    "### Recommendations\n",
    "1. E News Express must continue using new landing page for better interaction and conversion rate.\n",
    "2. The interaction time on both the landing page is similar for all three languages but conversion rate is higher for English. So, I suggest that company must focus on the quality of content for other two languages to achieve better conversion rate.\n",
    "3. Company can target and give discounts to users as per their preferred language. (As we know the conversion rate)."
   ]
  }
 ],
 "metadata": {
  "colab": {
   "collapsed_sections": [
    "a6a3d218",
    "6970dd99",
    "9d75cfa2",
    "68f3b2c9",
    "fad2de2f",
    "27906576",
    "e5fdf0c8",
    "56b3dafd",
    "c7ee4907",
    "3f58c9a7",
    "5fed2eac",
    "f5c5258d",
    "359b12f8",
    "d9affc84",
    "353e9d24",
    "d49bfa2d",
    "8d585a90",
    "3acbc947"
   ],
   "name": "ENews_Express_Learner_Notebook_Full_Code v1.1.ipynb",
   "provenance": []
  },
  "kernelspec": {
   "display_name": "Python 3 (ipykernel)",
   "language": "python",
   "name": "python3"
  },
  "language_info": {
   "codemirror_mode": {
    "name": "ipython",
    "version": 3
   },
   "file_extension": ".py",
   "mimetype": "text/x-python",
   "name": "python",
   "nbconvert_exporter": "python",
   "pygments_lexer": "ipython3",
   "version": "3.10.9"
  }
 },
 "nbformat": 4,
 "nbformat_minor": 5
}
